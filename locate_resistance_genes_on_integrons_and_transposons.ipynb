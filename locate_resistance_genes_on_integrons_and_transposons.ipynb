{
 "cells": [
  {
   "cell_type": "code",
   "execution_count": null,
   "metadata": {},
   "outputs": [],
   "source": [
    "import os\n",
    "import shutil\n",
    "import numpy as np\n",
    "import pandas as pd\n",
    "from collections import Counter\n",
    "import ast  "
   ]
  },
  {
   "cell_type": "markdown",
   "metadata": {},
   "source": [
    "Move integron.filter.tsv file to another dir"
   ]
  },
  {
   "cell_type": "code",
   "execution_count": null,
   "metadata": {},
   "outputs": [],
   "source": [
    "path='Path/to/test_bacant_result/'\n",
    "output='Path/to/integron_result/'\n",
    "\n",
    "if not os.path.exists(output):\n",
    "    os.makedirs(output)\n",
    "\n",
    "all_folder=os.listdir(path)\n",
    "for i in all_folder:\n",
    "    if os.path.exists(path+i+\"/integron.filter.tsv\"):\n",
    "        shutil.copyfile(path+i+\"/integron.filter.tsv\", output+i+'.tsv')"
   ]
  },
  {
   "cell_type": "markdown",
   "metadata": {},
   "source": [
    "Move transposon.filter.tsv file to another dir"
   ]
  },
  {
   "cell_type": "code",
   "execution_count": null,
   "metadata": {},
   "outputs": [],
   "source": [
    "path='Path/to/test_bacant_result/'\n",
    "output='Path/to/transposon_result/'\n",
    "\n",
    "if not os.path.exists(output):\n",
    "    os.makedirs(output)\n",
    "\n",
    "all_folder=os.listdir(path)\n",
    "for i in all_folder:\n",
    "    if os.path.exists(path+i+\"/transposon.filter.tsv\"):\n",
    "        if os.path.getsize(path+i+\"/transposon.filter.tsv\") > 162:\n",
    "            shutil.copyfile(path+i+\"/transposon.filter.tsv\", output+i+'.tsv')"
   ]
  },
  {
   "cell_type": "markdown",
   "metadata": {},
   "source": [
    "Motifi transposon file"
   ]
  },
  {
   "cell_type": "code",
   "execution_count": null,
   "metadata": {},
   "outputs": [],
   "source": [
    "########   Transposon Motifi  #######\n",
    "transposon_path='Path/to/transposon_result/'\n",
    "transposon_out='Path/to/Motifi_transposon/'\n",
    "transposon_list=os.listdir(transposon_path)\n",
    "\n",
    "if not os.path.exists(transposon_out):\n",
    "    os.makedirs(transposon_out)\n",
    "\n",
    "for i in transposon_list:\n",
    "    new_column=[]\n",
    "    file=pd.read_csv(transposon_path+i,sep='\\t')\n",
    "\n",
    "    file = pd.DataFrame({\n",
    "        \"Contig\": file[\"QUERY\"],\n",
    "        \"Transposon_Type\": file[\"TRANSPOSON TYPE|ACCESSION\"],\n",
    "        \"Start\": file[\"QUERY START\"],\n",
    "        \"End\": file[\"QUERY END\"]})\n",
    "    \n",
    "    file[\"Location\"] = file[\"Start\"].astype(str).str.cat(file[\"End\"].astype(str), sep=\"-\")\n",
    "    file=file.drop(\"Start\", axis=1)\n",
    "    file=file.drop(\"End\",axis=1)\n",
    "#####For Transposon Motifi, code bellow is needed********\n",
    "    file_contig=[]\n",
    "    temp_file_contig=file['Contig'].to_list()\n",
    "    for ii in temp_file_contig:\n",
    "        ii=ii.split('~')[0]\n",
    "        file_contig.append(ii)\n",
    "    file['Contig']=file_contig\n",
    "\n",
    "\n",
    "    file_transposon=[]\n",
    "    temp_file_transposon=file['Transposon_Type'].to_list()\n",
    "    for ii in temp_file_transposon:\n",
    "        ii=ii.split('|')[0]\n",
    "        file_transposon.append(ii)\n",
    "    \n",
    "    file[\"Transposon_Type\"]=file_transposon\n",
    "    file.to_csv(transposon_out+i,index=False)"
   ]
  },
  {
   "cell_type": "markdown",
   "metadata": {},
   "source": [
    "Motifi integron file"
   ]
  },
  {
   "cell_type": "code",
   "execution_count": null,
   "metadata": {},
   "outputs": [],
   "source": [
    "########   Integron Motifi  #######\n",
    "integron_path='Path/to/integron_result/'\n",
    "integron_out='Path/to/Motifi_integron/'\n",
    "integron_list=os.listdir(integron_path)\n",
    "\n",
    "if not os.path.exists(integron_out):\n",
    "    os.makedirs(integron_out)\n",
    "\n",
    "for i in integron_list:\n",
    "    new_column=[]\n",
    "    file=pd.read_csv(integron_path+i,sep='\\t')\n",
    "#####Change the name by your need********\n",
    "    file = pd.DataFrame({\n",
    "        \"Contig\": file[\"QUERY\"],\n",
    "        \"Integron_Type\": file[\"INTEGRON TYPE|ACCESSION\"],\n",
    "        \"Start\": file[\"QUERY START\"],\n",
    "        \"End\": file[\"QUERY END\"]})\n",
    "    \n",
    "    file[\"Location\"] = file[\"Start\"].astype(str).str.cat(file[\"End\"].astype(str), sep=\"-\")\n",
    "    file=file.drop(\"Start\", axis=1)\n",
    "    file=file.drop(\"End\",axis=1)\n",
    "#####For Transposon Motifi, code bellow is needed********\n",
    "    file_contig=[]\n",
    "    temp_file_contig=file['Contig'].to_list()\n",
    "    for ii in temp_file_contig:\n",
    "        ii=ii.split('~')[0]\n",
    "        file_contig.append(ii)\n",
    "    file['Contig']=file_contig\n",
    "#####Change the name by your need********\n",
    "    file_integron=[]\n",
    "    temp_file_integron=file['Integron_Type'].to_list()\n",
    "    for ii in temp_file_integron:\n",
    "        ii=ii.split('|')[0]\n",
    "        file_integron.append(ii)\n",
    "    \n",
    "    file[\"Integron_Type\"]=file_integron\n",
    "    file.to_csv(integron_out+i,index=False)"
   ]
  },
  {
   "cell_type": "markdown",
   "metadata": {},
   "source": [
    "Locate ARG on Transposon"
   ]
  },
  {
   "cell_type": "code",
   "execution_count": null,
   "metadata": {},
   "outputs": [],
   "source": [
    "def search_location_in_file(search_contig, filename, RE_location, data_path):\n",
    "    \"\"\"Search for whether RE_location is within the specified range in the given file.\"\"\"\n",
    "    global RE_found\n",
    "    global element_index\n",
    "    RE_found = 0\n",
    "    element_index = 'No_Element'\n",
    "    \n",
    "    file = pd.read_csv(data_path + filename)\n",
    "    file = file[file['Contig'] == search_contig]  # Filter rows where the contig matches.\n",
    "    file_locations = file['Location'].to_list()  # Get the list of values from the location column.\n",
    "    \n",
    "    for location in file_locations:\n",
    "        start, end = map(int, location.split('-'))  # Extract the start and end positions.\n",
    "        start = max(0, start - 5000)  # Extend 5000 bases upstream.\n",
    "        end += 5000  # Extend 5000 bases downstream.\n",
    "        \n",
    "        RE_start, RE_end = map(int, RE_location.split('-'))  # Obtain the start and end positions of the RE.\n",
    "        if start <= RE_start and RE_end <= end:\n",
    "            RE_found = 1  # Find the matching location.\n",
    "            element_index = file[file['Location'] == location].index[0]  # Obtain the corresponding index.\n"
   ]
  },
  {
   "cell_type": "markdown",
   "metadata": {},
   "source": [
    "Function for processing Transposon files."
   ]
  },
  {
   "cell_type": "code",
   "execution_count": null,
   "metadata": {},
   "outputs": [],
   "source": [
    "def process_transposon_files(transposon_path, ARG_path):\n",
    "    \"\"\"Process Transposon files.\"\"\"\n",
    "    transposon_list = os.listdir(transposon_path)\n",
    "    ARG_list = os.listdir(ARG_path)\n",
    "\n",
    "    Strain, ARG_type, transposon_type = [], [], []\n",
    "\n",
    "    for transposon_file in transposon_list:\n",
    "        transposon_name = transposon_file.split('.')[0]\n",
    "        ARG_file = [x for x in ARG_list if x.startswith(transposon_name)][0]\n",
    "        \n",
    "        ARG_data = pd.read_csv(ARG_path + ARG_file, sep='\\t')\n",
    "        contig_list = ARG_data['SEQUENCE'].to_list()\n",
    "        start_list = ARG_data['START'].to_list()\n",
    "        end_list = ARG_data['END'].to_list()\n",
    "        RE_name_list = ARG_data['GENE'].to_list()\n",
    "\n",
    "        final_count = []\n",
    "        temp_transposon_type = []\n",
    "\n",
    "        for idx, contig in enumerate(contig_list):\n",
    "            RE_location = f\"{start_list[idx]}-{end_list[idx]}\"\n",
    "            search_location_in_file(contig, transposon_file, RE_location, transposon_path)\n",
    "            final_count.append(RE_found)\n",
    "            temp_transposon_type.append(element_index)\n",
    "\n",
    "        transposon_type.append(_process_element_type(temp_transposon_type, transposon_file, transposon_path))\n",
    "        ARG_type.append(_process_ARG_type(final_count, RE_name_list))\n",
    "        Strain.append(transposon_file.replace('.tsv', ''))\n",
    "\n",
    "    _save_results(Strain, ARG_type, transposon_type, 'Transposon')\n"
   ]
  },
  {
   "cell_type": "markdown",
   "metadata": {},
   "source": [
    "Function for processing Integron files."
   ]
  },
  {
   "cell_type": "code",
   "execution_count": null,
   "metadata": {},
   "outputs": [],
   "source": [
    "def process_integron_files(integron_path, ARG_path):\n",
    "    \"\"\"Process Integron files.\"\"\"\n",
    "    integron_list = os.listdir(integron_path)\n",
    "    ARG_list = os.listdir(ARG_path)\n",
    "\n",
    "    Strain, ARG_type, integron_type = [], [], []\n",
    "\n",
    "    for integron_file in integron_list:\n",
    "        integron_name = integron_file.split('.')[0]\n",
    "        ARG_file = [x for x in ARG_list if x.startswith(integron_name)][0]\n",
    "        \n",
    "        ARG_data = pd.read_csv(ARG_path + ARG_file, sep='\\t')\n",
    "        contig_list = ARG_data['SEQUENCE'].to_list()\n",
    "        start_list = ARG_data['START'].to_list()\n",
    "        end_list = ARG_data['END'].to_list()\n",
    "        RE_name_list = ARG_data['GENE'].to_list()\n",
    "\n",
    "        final_count = []\n",
    "        temp_integron_type = []\n",
    "\n",
    "        for idx, contig in enumerate(contig_list):\n",
    "            RE_location = f\"{start_list[idx]}-{end_list[idx]}\"\n",
    "            search_location_in_file(contig, integron_file, RE_location, integron_path)\n",
    "            final_count.append(RE_found)\n",
    "            temp_integron_type.append(element_index)\n",
    "\n",
    "        integron_type.append(_process_element_type(temp_integron_type, integron_file, integron_path))\n",
    "        ARG_type.append(_process_ARG_type(final_count, RE_name_list))\n",
    "        Strain.append(integron_file.replace('.tsv', ''))\n",
    "\n",
    "    _save_results(Strain, ARG_type, integron_type, 'Integron')\n"
   ]
  },
  {
   "cell_type": "markdown",
   "metadata": {},
   "source": [
    "辅助函数"
   ]
  },
  {
   "cell_type": "code",
   "execution_count": null,
   "metadata": {},
   "outputs": [],
   "source": [
    "def _process_element_type(element_type_list, filename, path):\n",
    "    \"\"\"Process Transposon/Integron type based on the matching results.\"\"\"\n",
    "    if all(item == \"No_Element\" for item in element_type_list):\n",
    "        return 'No_Element carrier'\n",
    "\n",
    "    element_types = []\n",
    "    numbers_only = [item for item in element_type_list if item != \"No_Element\"]\n",
    "    element_file = pd.read_csv(path + filename)\n",
    "    element_info = element_file.iloc[:, -2].to_list()  # Assume that the type information is in the second-to-last column.\n",
    "    for index in numbers_only:\n",
    "        element_types.append(element_info[index])\n",
    "\n",
    "    return element_types\n",
    "\n",
    "def _process_ARG_type(final_count, RE_name_list):\n",
    "    \"\"\"Process ARG type.\"\"\"\n",
    "    if 1 in final_count:\n",
    "        ARG_type_list = [RE_name_list[idx] for idx, count in enumerate(final_count) if count == 1]\n",
    "        return ARG_type_list\n",
    "    else:\n",
    "        return \"No_Element-borne ARG\"\n",
    "\n",
    "def _save_results(Strain, ARG_type, element_type, element_name):\n",
    "    \"\"\"Save the results to a CSV file.\"\"\"\n",
    "    output_dir = 'Path/to/'\n",
    "    output_filename = f'result_{element_name}.csv'\n",
    "    output_path = output_dir + output_filename\n",
    "\n",
    "    data = {\n",
    "        'Strain': Strain,\n",
    "        'ARG_type': ARG_type,\n",
    "        f'{element_name}_type': element_type\n",
    "    }\n",
    "    \n",
    "    df = pd.DataFrame(data)\n",
    "    df.to_csv(output_path, index=False)\n"
   ]
  },
  {
   "cell_type": "markdown",
   "metadata": {},
   "source": [
    "主函数"
   ]
  },
  {
   "cell_type": "code",
   "execution_count": null,
   "metadata": {},
   "outputs": [],
   "source": [
    "if __name__ == \"__main__\":\n",
    "    transposon_path = 'Path/to/Motifi_transposon/'\n",
    "    integron_path = 'Path/to/Motifi_integron/'\n",
    "    ARG_path = 'Path/to/test_abricate_result/'\n",
    "\n",
    "    print(\"Processing Transposon files...\")\n",
    "    process_transposon_files(transposon_path, ARG_path)\n",
    "\n",
    "    print(\"Processing Integron files...\")\n",
    "    process_integron_files(integron_path, ARG_path)\n"
   ]
  }
 ],
 "metadata": {
  "kernelspec": {
   "display_name": "jia",
   "language": "python",
   "name": "python3"
  },
  "language_info": {
   "codemirror_mode": {
    "name": "ipython",
    "version": 3
   },
   "file_extension": ".py",
   "mimetype": "text/x-python",
   "name": "python",
   "nbconvert_exporter": "python",
   "pygments_lexer": "ipython3",
   "version": "3.12.3"
  }
 },
 "nbformat": 4,
 "nbformat_minor": 2
}
